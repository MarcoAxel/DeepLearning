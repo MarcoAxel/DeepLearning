{
 "cells": [
  {
   "cell_type": "markdown",
   "metadata": {},
   "source": [
    "# Python Review"
   ]
  },
  {
   "cell_type": "markdown",
   "metadata": {},
   "source": [
    "## Branching (Conditional Statements)"
   ]
  },
  {
   "cell_type": "markdown",
   "metadata": {},
   "source": [
    "Use branching to filter out negative numbers\n"
   ]
  },
  {
   "cell_type": "code",
   "execution_count": 1,
   "metadata": {},
   "outputs": [
    {
     "name": "stdout",
     "output_type": "stream",
     "text": [
      "[15, 22, 9, 18]\n"
     ]
    }
   ],
   "source": [
    "data = [15, 22, -4, 9, -37, 18]\n",
    "filtered_data = []\n",
    "\n",
    "for value in data:\n",
    "    if value >= 0:\n",
    "        filtered_data.append(value)\n",
    "\n",
    "print(filtered_data)  \n"
   ]
  },
  {
   "cell_type": "markdown",
   "metadata": {},
   "source": [
    "Categorizing Data Based on Criteria"
   ]
  },
  {
   "cell_type": "code",
   "execution_count": 2,
   "metadata": {},
   "outputs": [
    {
     "name": "stdout",
     "output_type": "stream",
     "text": [
      "['High', 'Moderate', 'Low', 'High', 'Moderate', 'Low', 'Low', 'Moderate']\n"
     ]
    }
   ],
   "source": [
    "temperatures = [33, 21, 15, 30, 25, 17, 18, 24]  \n",
    "categories = []\n",
    "\n",
    "for temp in temperatures:\n",
    "    if temp >= 30:\n",
    "        categories.append('High')\n",
    "    elif temp >= 20:\n",
    "        categories.append('Moderate')\n",
    "    else:\n",
    "        categories.append('Low')\n",
    "\n",
    "print(categories)"
   ]
  },
  {
   "cell_type": "code",
   "execution_count": null,
   "metadata": {},
   "outputs": [],
   "source": [
    "import numpy as np\n",
    "\n",
    "temperatures = np.array([33, 21, 15, 30, 25, 17, 18, 24])\n",
    "categories = []\n",
    "\n",
    "for temp in temperatures:\n",
    "    if temp >= 30:\n",
    "        categories.append('High')\n",
    "    elif temp >= 20:\n",
    "        categories.append('Moderate')\n",
    "    else:\n",
    "        categories.append('Low')\n",
    "\n",
    "print(categories)  "
   ]
  },
  {
   "cell_type": "code",
   "execution_count": 1,
   "metadata": {},
   "outputs": [
    {
     "name": "stdout",
     "output_type": "stream",
     "text": [
      "2.2.2\n"
     ]
    }
   ],
   "source": [
    "import numpy\n",
    "print(numpy.__version__)\n"
   ]
  },
  {
   "cell_type": "markdown",
   "metadata": {},
   "source": [
    "## Loops"
   ]
  },
  {
   "cell_type": "markdown",
   "metadata": {},
   "source": [
    "Data Aggregation"
   ]
  },
  {
   "cell_type": "code",
   "execution_count": null,
   "metadata": {},
   "outputs": [],
   "source": [
    "data_points = [10, 20, 30, 40, 50]\n",
    "total = 0\n",
    "\n",
    "# Summing data points\n",
    "for point in data_points:\n",
    "    total += point\n",
    "\n",
    "average = total / len(data_points) # len() built into python\n",
    "print(\"Average:\", average)  \n"
   ]
  },
  {
   "cell_type": "markdown",
   "metadata": {},
   "source": [
    "Implementing a Simple Moving Average"
   ]
  },
  {
   "cell_type": "code",
   "execution_count": null,
   "metadata": {},
   "outputs": [],
   "source": [
    "tmp = range(3)\n",
    "print(list(tmp))\n",
    "print(list(range(2,5)))"
   ]
  },
  {
   "cell_type": "code",
   "execution_count": null,
   "metadata": {},
   "outputs": [],
   "source": [
    "for i in range(8 - 3 + 1):\n",
    "    print(i)"
   ]
  },
  {
   "cell_type": "markdown",
   "metadata": {},
   "source": [
    "Exercise : Filters out all even numbers from a list.\n"
   ]
  },
  {
   "cell_type": "code",
   "execution_count": 3,
   "metadata": {},
   "outputs": [
    {
     "name": "stdout",
     "output_type": "stream",
     "text": [
      "1,3,5,7,9,11,13,15,17,19,21,23,25,27,29,31,33,35,37,39,41,43,45,47,49,51,53,55,57,59,61,63,65,67,69,71,73,75,77,79,81,83,85,87,89,91,93,95,97,99,"
     ]
    }
   ],
   "source": [
    "# start here:\n",
    "for i in range(100):\n",
    "    if i % 2 ==0:\n",
    "        continue\n",
    "    else: \n",
    "        print(i, end=\",\")"
   ]
  },
  {
   "cell_type": "code",
   "execution_count": 4,
   "metadata": {},
   "outputs": [
    {
     "name": "stdout",
     "output_type": "stream",
     "text": [
      "Moving Average: [46, 50, 54, 58, 62]\n"
     ]
    }
   ],
   "source": [
    "def moving_average(data, window_size):\n",
    "    moving_averages = []\n",
    "    for i in range(len(data) - window_size + 1):\n",
    "        this_window = data[i : i + window_size]  \n",
    "        # it 0  data[0:3]\n",
    "        # it 1 data [1:4]\n",
    "        window_average = sum(this_window)# / window_size\n",
    "        moving_averages.append(window_average)\n",
    "    return moving_averages\n",
    "\n",
    "prices = [10, 11, 12, 13, 14, 15, 16, 17]\n",
    "print(\"Moving Average:\", moving_average(prices, 4))  \n"
   ]
  },
  {
   "cell_type": "markdown",
   "metadata": {},
   "source": [
    "Can you modify the code to calculate a weighted moving average, where recent values have more weight? Discuss your approach with your neighbor?"
   ]
  },
  {
   "cell_type": "markdown",
   "metadata": {},
   "source": [
    "## Functions\n",
    "1) organize the code\n",
    "\n",
    "2) make it reusable\n",
    "\n",
    "3) improve readability "
   ]
  },
  {
   "attachments": {
    "image.png": {
     "image/png": "[encoded data removed]"
    }
   },
   "cell_type": "markdown",
   "metadata": {},
   "source": [
    "Compute Standard Deviation\n",
    "\n",
    "![image.png](attachment:image.png)\n",
    "\n"
   ]
  },
  {
   "cell_type": "code",
   "execution_count": null,
   "metadata": {},
   "outputs": [],
   "source": [
    "def standard_deviation(data):\n",
    "    mean = sum(data) / len(data)\n",
    "    variance = sum((x - mean) ** 2 for x in data) / len(data)\n",
    "    return variance ** 0.5 ## Square root of variance gives standard deviation\n",
    "\n",
    "\n",
    "data = [4, 8, 6, 5, 3, 2]\n",
    "print(\"Standard Deviation:\", standard_deviation(data))"
   ]
  },
  {
   "cell_type": "markdown",
   "metadata": {},
   "source": [
    "Calculating Weighted Mean for Exam Scores"
   ]
  },
  {
   "cell_type": "code",
   "execution_count": null,
   "metadata": {},
   "outputs": [],
   "source": [
    "def weighted_mean(values, weights):\n",
    "    weighted_sum = sum(val * weight for val, weight in zip(values, weights))\n",
    "    total_weight = sum(weights)\n",
    "    return weighted_sum / total_weight\n",
    "\n",
    "scores = [88, 92, 75, 89, 85]\n",
    "weights = [0.2, 0.3, 0.1, 0.2, 0.2]\n",
    "print(\"Weighted Mean Score:\", weighted_mean(scores, weights))  \n"
   ]
  },
  {
   "cell_type": "markdown",
   "metadata": {},
   "source": [
    "# Lists and Dictionaries"
   ]
  },
  {
   "cell_type": "markdown",
   "metadata": {},
   "source": [
    "Count Frequency of Data Points"
   ]
  },
  {
   "cell_type": "code",
   "execution_count": null,
   "metadata": {},
   "outputs": [
    {
     "name": "stdout",
     "output_type": "stream",
     "text": [
      "{'apple': 2, 'orange': 2, 'banana': 3}\n",
      "2\n",
      "5\n"
     ]
    }
   ],
   "source": [
    "data = ['apple', 'orange', 'apple', 'banana', 'orange', 'banana', 'banana']\n",
    "frequency = {}\n",
    "\n",
    "# Count frequency using a dictionary\n",
    "for item in data:\n",
    "    if item in frequency:\n",
    "        frequency[item] += 1\n",
    "    else:\n",
    "        frequency[item] = 1\n",
    "\n",
    "print(frequency)  \n",
    "print(frequency['apple'])\n",
    "frequency['apple']=5\n",
    "print(frequency['apple'])\n",
    "\n"
   ]
  },
  {
   "cell_type": "markdown",
   "metadata": {},
   "source": [
    "Tracking Data Access Logs by User"
   ]
  },
  {
   "cell_type": "code",
   "execution_count": null,
   "metadata": {},
   "outputs": [
    {
     "name": "stdout",
     "output_type": "stream",
     "text": [
      "{'user': 'alice', 'access_time': '2021-09-15T14:28:31'}\n",
      "user:  alice\n",
      "access_time:  2021-09-15T14:28:31\n",
      "{'user': 'bob', 'access_time': '2021-09-15T14:30:22'}\n",
      "user:  bob\n",
      "access_time:  2021-09-15T14:30:22\n",
      "{'user': 'alice', 'access_time': '2021-09-15T14:35:45'}\n",
      "user:  alice\n",
      "access_time:  2021-09-15T14:35:45\n"
     ]
    }
   ],
   "source": [
    "logs = [\n",
    "    {\"user\": \"alice\", \"access_time\": \"2021-09-15T14:28:31\"},\n",
    "    {\"user\": \"bob\", \"access_time\": \"2021-09-15T14:30:22\"},\n",
    "    {\"user\": \"alice\", \"access_time\": \"2021-09-15T14:35:45\"}\n",
    "]\n",
    "\n",
    "access_tracker = {}\n",
    "for log in logs:\n",
    "    print(log)\n",
    "    print(\"user: \",log['user'])\n",
    "    print(\"access_time: \",log[\"access_time\"])\n",
    "    \n",
    "\n"
   ]
  },
  {
   "cell_type": "code",
   "execution_count": null,
   "metadata": {},
   "outputs": [
    {
     "name": "stdout",
     "output_type": "stream",
     "text": [
      "{'alice': ['2021-09-15T14:28:31', '2021-09-15T14:35:45'], 'bob': ['2021-09-15T14:30:22']}\n"
     ]
    }
   ],
   "source": [
    "logs = [\n",
    "    {\"user\": \"alice\", \"access_time\": \"2021-09-15T14:28:31\"},\n",
    "    {\"user\": \"bob\", \"access_time\": \"2021-09-15T14:30:22\"},\n",
    "    {\"user\": \"alice\", \"access_time\": \"2021-09-15T14:35:45\"}\n",
    "]\n",
    "\n",
    "access_tracker = {}\n",
    "for log in logs:\n",
    "    user = log['user']\n",
    "    if user in access_tracker:\n",
    "        access_tracker[user].append(log['access_time'])\n",
    "    else:\n",
    "        access_tracker[user] = [log['access_time']]\n",
    "\n",
    "print(access_tracker)  \n"
   ]
  },
  {
   "cell_type": "markdown",
   "metadata": {},
   "source": [
    "## Strings"
   ]
  },
  {
   "cell_type": "markdown",
   "metadata": {},
   "source": [
    "Extracting and Analyzing Hashtags from Social Media Posts"
   ]
  },
  {
   "cell_type": "code",
   "execution_count": null,
   "metadata": {},
   "outputs": [
    {
     "name": "stdout",
     "output_type": "stream",
     "text": [
      "Love\n",
      "the\n",
      "new\n",
      "Python\n",
      "features\n",
      "#innovation\n",
      "#python\n",
      "----------------------\n",
      "Just\n",
      "completed\n",
      "a\n",
      "marathon!\n",
      "#running\n",
      "#challenge\n",
      "----------------------\n",
      "Learning\n",
      "how\n",
      "to\n",
      "cook\n",
      "a\n",
      "new\n",
      "dish\n",
      "#foodie\n",
      "#delicious\n",
      "----------------------\n"
     ]
    }
   ],
   "source": [
    "posts = [\n",
    "    \"Love the new Python features #innovation #python\",\n",
    "    \"Just completed a marathon! #running #challenge\",\n",
    "    \"Learning how to cook a new dish #foodie #delicious\"\n",
    "]\n",
    "\n",
    "hashtags = {}\n",
    "for post in posts:\n",
    "    #print(post)\n",
    "    for word in post.split():\n",
    "        print(word)\n",
    "    \n",
    "    print(\"----------------------\")    \n",
    "\n"
   ]
  },
  {
   "cell_type": "markdown",
   "metadata": {},
   "source": [
    "Replacing Hashtags in Social Media Posts with the Most Frequent One"
   ]
  },
  {
   "cell_type": "code",
   "execution_count": null,
   "metadata": {},
   "outputs": [
    {
     "name": "stdout",
     "output_type": "stream",
     "text": [
      "Modified Posts: ['Love the new Python features #running #running', 'Just completed a marathon! #running #running', 'Learning how to cook a new dish #running #running']\n",
      "Hashtag Frequencies: {'#innovation': 1, '#python': 1, '#running': 2, '#challenge': 1, '#delicious': 1}\n"
     ]
    }
   ],
   "source": [
    "posts = [\n",
    "    \"Love the new Python features #innovation #python\",\n",
    "    \"Just completed a marathon! #running #challenge\",\n",
    "    \"Learning how to cook a new dish #running #delicious\"\n",
    "]\n",
    "\n",
    "new_posts = []\n",
    "hashtags = {}\n",
    "\n",
    "# Count the frequency of each hashtag\n",
    "for post in posts:\n",
    "    for word in post.split():\n",
    "        if word.startswith('#'):\n",
    "            if word in hashtags:\n",
    "                hashtags[word] += 1\n",
    "            else:\n",
    "                hashtags[word] = 1\n",
    "\n",
    "# Find the most frequent hashtag\n",
    "most_frequent_hashtag = max(hashtags, key=hashtags.get)\n",
    "\n",
    "# Replace all hashtags in the original posts with the most frequent hashtag\n",
    "for post in posts:\n",
    "    modified_post = ' '.join([most_frequent_hashtag if word.startswith('#') else word for word in post.split()])\n",
    "    new_posts.append(modified_post)\n",
    "\n",
    "print(\"Modified Posts:\", new_posts)\n",
    "print(\"Hashtag Frequencies:\", hashtags)\n"
   ]
  },
  {
   "cell_type": "markdown",
   "metadata": {},
   "source": [
    "# Exercise"
   ]
  },
  {
   "cell_type": "markdown",
   "metadata": {},
   "source": [
    "1: Given an integer array nums, return true if any value appears more than once in the array, otherwise return false."
   ]
  },
  {
   "cell_type": "code",
   "execution_count": 14,
   "metadata": {},
   "outputs": [
    {
     "name": "stdout",
     "output_type": "stream",
     "text": [
      "[19, 23, 23, 34, 56]\n"
     ]
    }
   ],
   "source": [
    "a=[23,34,56,19,23]\n",
    "a.sort()\n",
    "print(a)"
   ]
  },
  {
   "cell_type": "code",
   "execution_count": 15,
   "metadata": {},
   "outputs": [],
   "source": [
    "def hasDuplicate(nums) -> bool:\n",
    "    nums.sort()\n",
    "    for i in range(len(nums)-1):\n",
    "        if nums[i] == nums[i+1]:\n",
    "            return True\n",
    "    return False\n",
    "       "
   ]
  },
  {
   "cell_type": "code",
   "execution_count": 16,
   "metadata": {},
   "outputs": [
    {
     "data": {
      "text/plain": [
       "True"
      ]
     },
     "execution_count": 16,
     "metadata": {},
     "output_type": "execute_result"
    }
   ],
   "source": [
    "hasDuplicate(a)"
   ]
  },
  {
   "cell_type": "markdown",
   "metadata": {},
   "source": [
    "2: You are given a string s consisting of the following characters: '(', ')', '{', '}', '[' and ']'.\n",
    "\n",
    "The input string s is valid if and only if:\n",
    "\n",
    "    I)  Every open bracket is closed by the same type of close bracket.\n",
    "    II) Open brackets are closed in the correct order.\n",
    "    III) Every close bracket has a corresponding open bracket of the same type.\n",
    "Return true if s is a valid string, and false otherwise."
   ]
  },
  {
   "cell_type": "code",
   "execution_count": null,
   "metadata": {},
   "outputs": [],
   "source": [
    "def isValid(s: str) -> bool:\n",
    "    # \n",
    "    return True"
   ]
  },
  {
   "cell_type": "markdown",
   "metadata": {},
   "source": [
    "You are given an array of distinct integers nums, sorted in ascending order, and an integer target.\n",
    "\n",
    "Implement a function to search for target within nums. If it exists, then return its index, otherwise, return -1.\n",
    "\n",
    "Your solution must run in O(logn) time."
   ]
  },
  {
   "cell_type": "code",
   "execution_count": null,
   "metadata": {},
   "outputs": [],
   "source": [
    "def search( nums: List[int], target: int) -> int:\n",
    "    # "
   ]
  },
  {
   "cell_type": "markdown",
   "metadata": {},
   "source": [
    "https://colab.research.google.com/"
   ]
  },
  {
   "cell_type": "markdown",
   "metadata": {},
   "source": [
    "## Classes (intro)"
   ]
  },
  {
   "cell_type": "markdown",
   "metadata": {},
   "source": [
    "## OOP (Object-oriented programming)\n",
    "OOP is a programming paradigm based on the __concept of \"objects\"__, which can contain __data__ and __code__: data in the form of fields (often known as attributes or properties), and code, in the form of procedures (often known as methods).\n",
    "\n",
    "A common feature of objects is that procedures (or methods) are attached to them and can access and modify the object's data fields. In this brand of OOP, there is usually a special name such as __this__ or __self__ used to refer to the current object. In OOP, computer programs are designed by making them out of objects that interact with one another. \n",
    "\n",
    "OOP languages are diverse, but the most popular ones are class-based, meaning that objects are instances of classes, which also determine their types.\n",
    "\n",
    "from https://en.wikipedia.org/wiki/Object-oriented_programming\n"
   ]
  },
  {
   "cell_type": "markdown",
   "metadata": {},
   "source": [
    "### Class definition \n",
    "Class definition includes a header and a set of method definitions\n",
    "\n",
    "Aside: several classes can be defined in one module. Each module, class, and method can have its separate docstring."
   ]
  },
  {
   "cell_type": "code",
   "execution_count": null,
   "metadata": {},
   "outputs": [],
   "source": [
    "class ClassName:\n",
    "    def __init__(self, parameters) -> None:\n",
    "        self.attribute = value\n",
    "    \n",
    "    def method(self):\n",
    "        #define code"
   ]
  },
  {
   "cell_type": "code",
   "execution_count": null,
   "metadata": {},
   "outputs": [
    {
     "name": "stdout",
     "output_type": "stream",
     "text": [
      "Alice earned 323.75\n",
      "john earned 247.50\n"
     ]
    }
   ],
   "source": [
    "class Employee:\n",
    "    def __init__(self):\n",
    "        self.wage = 0\n",
    "        self.hours_worked = 0\n",
    "\n",
    "    def calculate_pay(self):  # don't forget self as the first arg\n",
    "        return self.wage * self.hours_worked\n",
    "\n",
    "\n",
    "alice = Employee()\n",
    "alice.wage = 9.25\n",
    "alice.hours_worked = 35\n",
    "print(f'Alice earned {alice.calculate_pay():.2f}')\n",
    "\n",
    "john = Employee()\n",
    "john.wage = 8.25\n",
    "john.hours_worked = 30\n",
    "print(f'john earned {john.calculate_pay():.2f}')"
   ]
  },
  {
   "cell_type": "markdown",
   "metadata": {},
   "source": [
    "### Class constructor\n",
    "Class constructor or **\\_\\_init\\_\\_** method is called when the class is initiated, this method initializes __instance variables (attributes)__, it can have arguments that allows the user to provide initial values."
   ]
  },
  {
   "cell_type": "code",
   "execution_count": null,
   "metadata": {},
   "outputs": [],
   "source": []
  },
  {
   "cell_type": "code",
   "execution_count": null,
   "metadata": {},
   "outputs": [
    {
     "name": "stdout",
     "output_type": "stream",
     "text": [
      "Todd earns 165.00 per week\n",
      "Jason earns 165.00 per week\n",
      "Tricia earns 500.00 per week\n",
      "================================\n",
      "Todd earns 165.00 per week\n",
      "Jason earns 165.00 per week\n",
      "Tricia earns 500.00 per week\n"
     ]
    }
   ],
   "source": [
    "class Employee:\n",
    "    def __init__(self, name, wage=8.25, hours=20):\n",
    "        \"\"\"\n",
    "        Default employee is part time (20 hours/week)\n",
    "        and earns minimum wage\n",
    "        \"\"\"\n",
    "        self.name = name\n",
    "        self.wage = wage\n",
    "        self.hours = hours\n",
    "    \n",
    "    def cal_pay(self):\n",
    "        return self.wage * self.hours\n",
    "\n",
    "    # ...\n",
    "\n",
    "\n",
    "todd = Employee('Todd')  # Typical part-time employee\n",
    "jason = Employee('Jason')  # Typical part-time employee\n",
    "tricia = Employee('Tricia', wage=12.50, hours=40)  # Manager employee\n",
    "\n",
    "\n",
    "#employees = [todd, jason, tricia]\n",
    "employees=[]\n",
    "employees.append(todd)\n",
    "employees.append(jason)\n",
    "employees.append(tricia)\n",
    "\n",
    "print(f'{todd.name} earns {todd.cal_pay():.2f} per week')\n",
    "print(f'{jason.name} earns {jason.cal_pay():.2f} per week')\n",
    "print(f'{tricia.name} earns {tricia.cal_pay():.2f} per week')\n",
    "\n",
    "print(\"================================\")\n",
    "for e in employees:\n",
    "    print (f'{e.name} earns {e.cal_pay():.2f} per week')"
   ]
  },
  {
   "cell_type": "markdown",
   "metadata": {},
   "source": [
    "#### Class vs instance attributes"
   ]
  },
  {
   "cell_type": "code",
   "execution_count": null,
   "metadata": {},
   "outputs": [],
   "source": [
    "class Time:\n",
    "    gmt_offset = 0  # Class attribute. Changing alters print_time output\n",
    "    \n",
    "    def __init__(self):  # Methods are a class attribute too\n",
    "        self.hours = 0  # Instance attribute\n",
    "        self.minutes = 0  # Instance attribute\n",
    "\n",
    "    def print_time(self):  # Methods are a class attribute too\n",
    "        offset_hours = self.hours + self.gmt_offset  # Local variable\n",
    "        \n",
    "        print(f'Time -- {offset_hours}:{self.minutes}')\n",
    "\n",
    "time1 = Time()\n",
    "time1.hours = 10\n",
    "time1.minutes = 15\n",
    "\n",
    "time2 = Time()\n",
    "time2.hours = 12\n",
    "time2.minutes = 45\n",
    "\n",
    "print ('Greenwich Mean Time (GMT):')\n",
    "time1.print_time()\n",
    "time2.print_time()\n",
    "\n",
    "Time.gmt_offset = -8  # Change to PST time (-8 GMT)\n",
    "\n",
    "print('\\nPacific Standard Time (PST):')\n",
    "time1.print_time()\n",
    "time2.print_time()"
   ]
  },
  {
   "cell_type": "markdown",
   "metadata": {},
   "source": [
    "__Exercise:__ \n",
    "\n",
    "Complete the FoodItem class by adding a constructor to initialize a food item. The constructor should initialize the name (a string) to \"Water\" and all other instance attributes to 0.0 by default. If the constructor is called with a food name, grams of fat, grams of carbohydrates, and grams of protein, the constructor should assign each instance attribute with the appropriate parameter value.\n",
    "\n",
    "The given program accepts as input a food item name, amount of fat, carbs, and protein, and the number of servings. The program creates a food item using the constructor parameters' default values and a food item using the input values. The program outputs the nutritional information and calories per serving for a food item.\n",
    "\n",
    "Define constructor with arguments to initialize instance attributes (name, fat, carbs, protein)"
   ]
  },
  {
   "cell_type": "code",
   "execution_count": null,
   "metadata": {},
   "outputs": [],
   "source": [
    "class FoodItem:\n",
    "    # TODO: Define constructor with arguments to initialize instance \n",
    "    #       attributes (name, fat, carbs, protein)\n",
    "       \n",
    "    def get_calories(self, num_servings):\n",
    "        # Calorie formula\n",
    "        calories = ((self.fat * 9) + (self.carbs * 4) + (self.protein * 4)) * num_servings;\n",
    "        return calories\n",
    "       \n",
    "    def print_info(self):\n",
    "        print(f'Nutritional information per serving of {self.name}:')\n",
    "        print(f'  Fat: {self.fat:.2f} g')\n",
    "        print(f'  Carbohydrates: {self.carbs:.2f} g')\n",
    "        print(f'  Protein: {self.protein:.2f} g')\n",
    "\n",
    "\n",
    "item_name = input()\n",
    "if item_name == 'Water' or item_name == 'water':\n",
    "    food_item = FoodItem()\n",
    "    food_item.print_info()\n",
    "    print(f'Number of calories for {1.0:.2f} serving(s): {food_item.get_calories(1.0):.2f}')                       \n",
    "\n",
    "else:\n",
    "    amount_fat = float(input())\n",
    "    amount_carbs = float(input())\n",
    "    amount_protein = float(input())\n",
    "    num_servings = float(input())\n",
    "\n",
    "    food_item = FoodItem(item_name, amount_fat, amount_carbs, amount_protein)\n",
    "    food_item.print_info()\n",
    "    print(f'Number of calories for {1.0:.2f} serving(s): {food_item.get_calories(1.0):.2f}')\n",
    "    print(f'Number of calories for {num_servings:.2f} serving(s): {food_item.get_calories(num_servings):.2f}')\n"
   ]
  }
 ],
 "metadata": {
  "kernelspec": {
   "display_name": "csc360deeplearning",
   "language": "python",
   "name": "python3"
  },
  "language_info": {
   "codemirror_mode": {
    "name": "ipython",
    "version": 3
   },
   "file_extension": ".py",
   "mimetype": "text/x-python",
   "name": "python",
   "nbconvert_exporter": "python",
   "pygments_lexer": "ipython3",
   "version": "3.11.5"
  }
 },
 "nbformat": 4,
 "nbformat_minor": 2
}
