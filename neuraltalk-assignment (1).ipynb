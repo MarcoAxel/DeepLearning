{
 "cells": [
  {
   "cell_type": "markdown",
   "id": "f3e39a4b7522fe82",
   "metadata": {},
   "source": [
    "# Assignment 1 NeuralTalk2\n",
    "\n",
    "## Instructions\n",
    "1. Setup NeuralTalk2\n",
    "2. Run captioning on an Image\n",
    "3. Modify the Input\n",
    "4. Analyze Bias\n",
    "    - Try images or rare or unusual scenaries (e.g., \"A person riding a zebra\")\n",
    "    - Does the model fail? Why?"
   ]
  },
  {
   "cell_type": "markdown",
   "id": "f4bbbc617d20ba46",
   "metadata": {},
   "source": [
    "# Step 1: Setup NeuralTalk2\n",
    "\n",
    "1. Downloaded ImageCaptioning repository from [GitHub: ImageCaptioning.pytorch](https://github.com/deep-learning-with-pytorch/ImageCaptioning.pytorch)\n",
    "2. Check to make sure Torch is installed (and GPU devices if available)"
   ]
  },
  {
   "cell_type": "code",
   "execution_count": 3,
   "id": "dbafc9443df6e649",
   "metadata": {
    "ExecuteTime": {
     "end_time": "2025-02-24T22:34:40.219118Z",
     "start_time": "2025-02-24T22:34:39.990308Z"
    }
   },
   "outputs": [
    {
     "name": "stdout",
     "output_type": "stream",
     "text": [
      "No devices found\n"
     ]
    }
   ],
   "source": [
    "import torch\n",
    "if torch.cuda.is_available():\n",
    "    print(f\"Number of CUDA devices: {torch.cuda.device_count()}\")\n",
    "    print(f\"Current device: {torch.cuda.current_device()}\")\n",
    "    print(f\"Device name: {torch.cuda.get_device_name(torch.cuda.current_device())}\")\n",
    "else:\n",
    "    print(\"No devices found\")"
   ]
  },
  {
   "cell_type": "markdown",
   "id": "a8691cc8cd5455a0",
   "metadata": {},
   "source": [
    "# Step 2: Run captioning on an image\n",
    "1. Image used for captioning:\n",
    "    - <img src=\"images/chocolate-birthday-cake-scaled.jpg\" alt=\"Chocolate Cake\" width=\"200\"/>\n",
    "2. Save image to ImageCaptioning/data folder\n",
    "3. Run the bash script:\n",
    "```bash\n",
    "python eval.py --model .\\data\\fc\\fc-model.pth --infos_path .\\data\\fc\\fc-infos.pkl --image_folder .\\images --num_images 1\n",
    "```"
   ]
  },
  {
   "cell_type": "code",
   "execution_count": 4,
   "id": "initial_id",
   "metadata": {
    "ExecuteTime": {
     "end_time": "2025-02-24T22:25:21.676213Z",
     "start_time": "2025-02-24T22:25:19.855495Z"
    },
    "collapsed": true
   },
   "outputs": [
    {
     "name": "stdout",
     "output_type": "stream",
     "text": [
      "DataLoaderRaw loading images from folder:  .\\images\n",
      "0\n",
      "listing all images in directory .\\images\n",
      "DataLoaderRaw found  1  images\n",
      "cp \".\\images\\chocolate-birthday-cake-scaled.jpg\" vis/imgs/img1.jpg\n",
      "image 1: a piece of chocolate cake on a white plate\n",
      "cp \".\\images\\chocolate-birthday-cake-scaled.jpg\" vis/imgs/img2.jpg\n",
      "image 1: a piece of chocolate cake on a white plate\n",
      "cp \".\\images\\chocolate-birthday-cake-scaled.jpg\" vis/imgs/img3.jpg\n",
      "image 1: a piece of chocolate cake on a white plate\n",
      "cp \".\\images\\chocolate-birthday-cake-scaled.jpg\" vis/imgs/img4.jpg\n",
      "image 1: a piece of chocolate cake on a white plate\n",
      "cp \".\\images\\chocolate-birthday-cake-scaled.jpg\" vis/imgs/img5.jpg\n",
      "image 1: a piece of chocolate cake on a white plate\n",
      "cp \".\\images\\chocolate-birthday-cake-scaled.jpg\" vis/imgs/img6.jpg\n",
      "image 1: a piece of chocolate cake on a white plate\n",
      "cp \".\\images\\chocolate-birthday-cake-scaled.jpg\" vis/imgs/img7.jpg\n",
      "image 1: a piece of chocolate cake on a white plate\n",
      "cp \".\\images\\chocolate-birthday-cake-scaled.jpg\" vis/imgs/img8.jpg\n",
      "image 1: a piece of chocolate cake on a white plate\n",
      "cp \".\\images\\chocolate-birthday-cake-scaled.jpg\" vis/imgs/img9.jpg\n",
      "image 1: a piece of chocolate cake on a white plate\n",
      "cp \".\\images\\chocolate-birthday-cake-scaled.jpg\" vis/imgs/img10.jpg\n",
      "image 1: a piece of chocolate cake on a white plate\n",
      "evaluating validation preformance... -1/1 (0.000000)\n",
      "loss:  0.0\n"
     ]
    },
    {
     "name": "stderr",
     "output_type": "stream",
     "text": [
      "c:\\Users\\Gabriel\\PycharmProjects\\AIML\\DL-Assignment01\\ImageCaptioning\\eval.py:111: FutureWarning: You are using `torch.load` with `weights_only=False` (the current default value), which uses the default pickle module implicitly. It is possible to construct malicious pickle data which will execute arbitrary code during unpickling (See https://github.com/pytorch/pytorch/blob/main/SECURITY.md#untrusted-models for more details). In a future release, the default value for `weights_only` will be flipped to `True`. This limits the functions that could be executed during unpickling. Arbitrary objects will no longer be allowed to be loaded via this mode unless they are explicitly allowlisted by the user via `torch.serialization.add_safe_globals`. We recommend you start setting `weights_only=True` for any use case where you don't have full control of the loaded file. Please open an issue on GitHub for any issues related to this experimental feature.\n",
      "  model.load_state_dict(torch.load(opt.model, map_location=torch.device(device)))\n",
      "c:\\Users\\Gabriel\\PycharmProjects\\AIML\\DL-Assignment01\\ImageCaptioning\\dataloaderraw.py:37: FutureWarning: You are using `torch.load` with `weights_only=False` (the current default value), which uses the default pickle module implicitly. It is possible to construct malicious pickle data which will execute arbitrary code during unpickling (See https://github.com/pytorch/pytorch/blob/main/SECURITY.md#untrusted-models for more details). In a future release, the default value for `weights_only` will be flipped to `True`. This limits the functions that could be executed during unpickling. Arbitrary objects will no longer be allowed to be loaded via this mode unless they are explicitly allowlisted by the user via `torch.serialization.add_safe_globals`. We recommend you start setting `weights_only=True` for any use case where you don't have full control of the loaded file. Please open an issue on GitHub for any issues related to this experimental feature.\n",
      "  self.my_resnet.load_state_dict(torch.load('./data/imagenet_weights/'+self.cnn_model+'.pth'))\n",
      "c:\\Users\\Gabriel\\PycharmProjects\\AIML\\DL-Assignment01\\ImageCaptioning\\models\\FCModel.py:147: UserWarning: Implicit dimension choice for log_softmax has been deprecated. Change the call to include dim=X as an argument.\n",
      "  logprobs = F.log_softmax(self.logit(output))\n",
      "c:\\Users\\Gabriel\\PycharmProjects\\AIML\\DL-Assignment01\\ImageCaptioning\\models\\FCModel.py:123: UserWarning: Implicit dimension choice for log_softmax has been deprecated. Change the call to include dim=X as an argument.\n",
      "  logprobs = F.log_softmax(self.logit(output))\n",
      "'cp' is not recognized as an internal or external command,\n",
      "operable program or batch file.\n",
      "'cp' is not recognized as an internal or external command,\n",
      "operable program or batch file.\n",
      "'cp' is not recognized as an internal or external command,\n",
      "operable program or batch file.\n",
      "'cp' is not recognized as an internal or external command,\n",
      "operable program or batch file.\n",
      "'cp' is not recognized as an internal or external command,\n",
      "operable program or batch file.\n",
      "'cp' is not recognized as an internal or external command,\n",
      "operable program or batch file.\n",
      "'cp' is not recognized as an internal or external command,\n",
      "operable program or batch file.\n",
      "'cp' is not recognized as an internal or external command,\n",
      "operable program or batch file.\n",
      "'cp' is not recognized as an internal or external command,\n",
      "operable program or batch file.\n",
      "'cp' is not recognized as an internal or external command,\n",
      "operable program or batch file.\n"
     ]
    }
   ],
   "source": [
    "!python eval.py --model .\\data\\fc\\fc-model.pth --infos_path .\\data\\fc\\fc-infos.pkl --image_folder .\\images --num_images 1"
   ]
  },
  {
   "cell_type": "markdown",
   "id": "dfab0451",
   "metadata": {},
   "source": [
    "## Look at the generated caption using the two bash commands\n",
    "```bash\n",
    "cd vis\n",
    "python -m http.server 9000\n",
    "```"
   ]
  },
  {
   "cell_type": "code",
   "execution_count": 6,
   "id": "4e3b1a81",
   "metadata": {},
   "outputs": [
    {
     "name": "stdout",
     "output_type": "stream",
     "text": [
      "^C\n"
     ]
    }
   ],
   "source": [
    "!cd vis\n",
    "!python -m http.server 9000"
   ]
  },
  {
   "cell_type": "markdown",
   "id": "1b0eaf29",
   "metadata": {},
   "source": [
    "# Image Caption\n",
    "- <img src=\"caption1.png\" alt=\"Chocolate Cake\"/>"
   ]
  },
  {
   "cell_type": "markdown",
   "id": "1228589f",
   "metadata": {},
   "source": [
    "# Step 4: Modify the input\n",
    "\n",
    "For this modification, I am going to grayscale the cake, and see what it gives me. As well as making it upside down\n",
    "- <img src=\"images/chocolate-birthday-cake-bw.jpg\" alt=\"Chocolate Cake\" width=200px/>\n",
    "- <img src=\"images/chocolate-birthday-cake-flipped.jpg\" alt=\"Chocolate Cake\" width=200px/>"
   ]
  },
  {
   "cell_type": "code",
   "execution_count": 9,
   "id": "5d9def33",
   "metadata": {},
   "outputs": [
    {
     "name": "stdout",
     "output_type": "stream",
     "text": [
      "DataLoaderRaw loading images from folder:  .\\images\n",
      "0\n",
      "listing all images in directory .\\images\n",
      "DataLoaderRaw found  2  images\n",
      "cp \".\\images\\chocolate-birthday-cake-bw.jpg\" vis/imgs/img1.jpg\n",
      "image 1: a black and white photo of a piece of cake\n",
      "cp \".\\images\\chocolate-birthday-cake-scaled.jpg\" vis/imgs/img2.jpg\n",
      "image 2: a piece of chocolate cake on a white plate\n",
      "cp \".\\images\\chocolate-birthday-cake-bw.jpg\" vis/imgs/img3.jpg\n",
      "image 1: a black and white photo of a piece of cake\n",
      "cp \".\\images\\chocolate-birthday-cake-scaled.jpg\" vis/imgs/img4.jpg\n",
      "image 2: a piece of chocolate cake on a white plate\n",
      "cp \".\\images\\chocolate-birthday-cake-bw.jpg\" vis/imgs/img5.jpg\n",
      "image 1: a black and white photo of a piece of cake\n",
      "cp \".\\images\\chocolate-birthday-cake-scaled.jpg\" vis/imgs/img6.jpg\n",
      "image 2: a piece of chocolate cake on a white plate\n",
      "cp \".\\images\\chocolate-birthday-cake-bw.jpg\" vis/imgs/img7.jpg\n",
      "image 1: a black and white photo of a piece of cake\n",
      "cp \".\\images\\chocolate-birthday-cake-scaled.jpg\" vis/imgs/img8.jpg\n",
      "image 2: a piece of chocolate cake on a white plate\n",
      "cp \".\\images\\chocolate-birthday-cake-bw.jpg\" vis/imgs/img9.jpg\n",
      "image 1: a black and white photo of a piece of cake\n",
      "cp \".\\images\\chocolate-birthday-cake-scaled.jpg\" vis/imgs/img10.jpg\n",
      "image 2: a piece of chocolate cake on a white plate\n",
      "evaluating validation preformance... -1/1 (0.000000)\n",
      "loss:  0.0\n"
     ]
    },
    {
     "name": "stderr",
     "output_type": "stream",
     "text": [
      "c:\\Users\\Gabriel\\PycharmProjects\\AIML\\DL-Assignment01\\ImageCaptioning\\eval.py:111: FutureWarning: You are using `torch.load` with `weights_only=False` (the current default value), which uses the default pickle module implicitly. It is possible to construct malicious pickle data which will execute arbitrary code during unpickling (See https://github.com/pytorch/pytorch/blob/main/SECURITY.md#untrusted-models for more details). In a future release, the default value for `weights_only` will be flipped to `True`. This limits the functions that could be executed during unpickling. Arbitrary objects will no longer be allowed to be loaded via this mode unless they are explicitly allowlisted by the user via `torch.serialization.add_safe_globals`. We recommend you start setting `weights_only=True` for any use case where you don't have full control of the loaded file. Please open an issue on GitHub for any issues related to this experimental feature.\n",
      "  model.load_state_dict(torch.load(opt.model, map_location=torch.device(device)))\n",
      "c:\\Users\\Gabriel\\PycharmProjects\\AIML\\DL-Assignment01\\ImageCaptioning\\dataloaderraw.py:37: FutureWarning: You are using `torch.load` with `weights_only=False` (the current default value), which uses the default pickle module implicitly. It is possible to construct malicious pickle data which will execute arbitrary code during unpickling (See https://github.com/pytorch/pytorch/blob/main/SECURITY.md#untrusted-models for more details). In a future release, the default value for `weights_only` will be flipped to `True`. This limits the functions that could be executed during unpickling. Arbitrary objects will no longer be allowed to be loaded via this mode unless they are explicitly allowlisted by the user via `torch.serialization.add_safe_globals`. We recommend you start setting `weights_only=True` for any use case where you don't have full control of the loaded file. Please open an issue on GitHub for any issues related to this experimental feature.\n",
      "  self.my_resnet.load_state_dict(torch.load('./data/imagenet_weights/'+self.cnn_model+'.pth'))\n",
      "c:\\Users\\Gabriel\\PycharmProjects\\AIML\\DL-Assignment01\\ImageCaptioning\\models\\FCModel.py:147: UserWarning: Implicit dimension choice for log_softmax has been deprecated. Change the call to include dim=X as an argument.\n",
      "  logprobs = F.log_softmax(self.logit(output))\n",
      "c:\\Users\\Gabriel\\PycharmProjects\\AIML\\DL-Assignment01\\ImageCaptioning\\models\\FCModel.py:123: UserWarning: Implicit dimension choice for log_softmax has been deprecated. Change the call to include dim=X as an argument.\n",
      "  logprobs = F.log_softmax(self.logit(output))\n",
      "'cp' is not recognized as an internal or external command,\n",
      "operable program or batch file.\n",
      "'cp' is not recognized as an internal or external command,\n",
      "operable program or batch file.\n",
      "'cp' is not recognized as an internal or external command,\n",
      "operable program or batch file.\n",
      "'cp' is not recognized as an internal or external command,\n",
      "operable program or batch file.\n",
      "'cp' is not recognized as an internal or external command,\n",
      "operable program or batch file.\n",
      "'cp' is not recognized as an internal or external command,\n",
      "operable program or batch file.\n",
      "'cp' is not recognized as an internal or external command,\n",
      "operable program or batch file.\n",
      "'cp' is not recognized as an internal or external command,\n",
      "operable program or batch file.\n",
      "'cp' is not recognized as an internal or external command,\n",
      "operable program or batch file.\n",
      "'cp' is not recognized as an internal or external command,\n",
      "operable program or batch file.\n",
      "c:\\Users\\Gabriel\\PycharmProjects\\AIML\\DL-Assignment01\\ImageCaptioning\\eval.py:111: FutureWarning: You are using `torch.load` with `weights_only=False` (the current default value), which uses the default pickle module implicitly. It is possible to construct malicious pickle data which will execute arbitrary code during unpickling (See https://github.com/pytorch/pytorch/blob/main/SECURITY.md#untrusted-models for more details). In a future release, the default value for `weights_only` will be flipped to `True`. This limits the functions that could be executed during unpickling. Arbitrary objects will no longer be allowed to be loaded via this mode unless they are explicitly allowlisted by the user via `torch.serialization.add_safe_globals`. We recommend you start setting `weights_only=True` for any use case where you don't have full control of the loaded file. Please open an issue on GitHub for any issues related to this experimental feature.\n",
      "  model.load_state_dict(torch.load(opt.model, map_location=torch.device(device)))\n",
      "c:\\Users\\Gabriel\\PycharmProjects\\AIML\\DL-Assignment01\\ImageCaptioning\\dataloaderraw.py:37: FutureWarning: You are using `torch.load` with `weights_only=False` (the current default value), which uses the default pickle module implicitly. It is possible to construct malicious pickle data which will execute arbitrary code during unpickling (See https://github.com/pytorch/pytorch/blob/main/SECURITY.md#untrusted-models for more details). In a future release, the default value for `weights_only` will be flipped to `True`. This limits the functions that could be executed during unpickling. Arbitrary objects will no longer be allowed to be loaded via this mode unless they are explicitly allowlisted by the user via `torch.serialization.add_safe_globals`. We recommend you start setting `weights_only=True` for any use case where you don't have full control of the loaded file. Please open an issue on GitHub for any issues related to this experimental feature.\n",
      "  self.my_resnet.load_state_dict(torch.load('./data/imagenet_weights/'+self.cnn_model+'.pth'))\n",
      "c:\\Users\\Gabriel\\PycharmProjects\\AIML\\DL-Assignment01\\ImageCaptioning\\models\\FCModel.py:147: UserWarning: Implicit dimension choice for log_softmax has been deprecated. Change the call to include dim=X as an argument.\n",
      "  logprobs = F.log_softmax(self.logit(output))\n",
      "c:\\Users\\Gabriel\\PycharmProjects\\AIML\\DL-Assignment01\\ImageCaptioning\\models\\FCModel.py:123: UserWarning: Implicit dimension choice for log_softmax has been deprecated. Change the call to include dim=X as an argument.\n",
      "  logprobs = F.log_softmax(self.logit(output))\n",
      "'cp' is not recognized as an internal or external command,\n",
      "operable program or batch file.\n",
      "'cp' is not recognized as an internal or external command,\n",
      "operable program or batch file.\n",
      "'cp' is not recognized as an internal or external command,\n",
      "operable program or batch file.\n",
      "'cp' is not recognized as an internal or external command,\n",
      "operable program or batch file.\n",
      "'cp' is not recognized as an internal or external command,\n",
      "operable program or batch file.\n",
      "'cp' is not recognized as an internal or external command,\n",
      "operable program or batch file.\n",
      "'cp' is not recognized as an internal or external command,\n",
      "operable program or batch file.\n",
      "'cp' is not recognized as an internal or external command,\n",
      "operable program or batch file.\n",
      "'cp' is not recognized as an internal or external command,\n",
      "operable program or batch file.\n",
      "'cp' is not recognized as an internal or external command,\n",
      "operable program or batch file.\n"
     ]
    },
    {
     "name": "stdout",
     "output_type": "stream",
     "text": [
      "DataLoaderRaw loading images from folder:  .\\images\n",
      "0\n",
      "listing all images in directory .\\images\n",
      "DataLoaderRaw found  2  images\n",
      "cp \".\\images\\chocolate-birthday-cake-bw.jpg\" vis/imgs/img1.jpg\n",
      "image 1: a black and white photo of a piece of cake\n",
      "cp \".\\images\\chocolate-birthday-cake-scaled.jpg\" vis/imgs/img2.jpg\n",
      "image 2: a piece of chocolate cake on a white plate\n",
      "cp \".\\images\\chocolate-birthday-cake-bw.jpg\" vis/imgs/img3.jpg\n",
      "image 1: a black and white photo of a piece of cake\n",
      "cp \".\\images\\chocolate-birthday-cake-scaled.jpg\" vis/imgs/img4.jpg\n",
      "image 2: a piece of chocolate cake on a white plate\n",
      "cp \".\\images\\chocolate-birthday-cake-bw.jpg\" vis/imgs/img5.jpg\n",
      "image 1: a black and white photo of a piece of cake\n",
      "cp \".\\images\\chocolate-birthday-cake-scaled.jpg\" vis/imgs/img6.jpg\n",
      "image 2: a piece of chocolate cake on a white plate\n",
      "cp \".\\images\\chocolate-birthday-cake-bw.jpg\" vis/imgs/img7.jpg\n",
      "image 1: a black and white photo of a piece of cake\n",
      "cp \".\\images\\chocolate-birthday-cake-scaled.jpg\" vis/imgs/img8.jpg\n",
      "image 2: a piece of chocolate cake on a white plate\n",
      "cp \".\\images\\chocolate-birthday-cake-bw.jpg\" vis/imgs/img9.jpg\n",
      "image 1: a black and white photo of a piece of cake\n",
      "cp \".\\images\\chocolate-birthday-cake-scaled.jpg\" vis/imgs/img10.jpg\n",
      "image 2: a piece of chocolate cake on a white plate\n",
      "evaluating validation preformance... -1/2 (0.000000)\n",
      "loss:  0.0\n",
      "DataLoaderRaw loading images from folder:  .\\images\n",
      "0\n",
      "listing all images in directory .\\images\n",
      "DataLoaderRaw found  3  images\n",
      "cp \".\\images\\chocolate-birthday-cake-bw.jpg\" vis/imgs/img1.jpg\n",
      "image 1: a black and white photo of a piece of cake\n",
      "cp \".\\images\\chocolate-birthday-cake-flipped.jpg\" vis/imgs/img2.jpg\n",
      "image 2: a close up of a piece of cake on a table\n",
      "cp \".\\images\\chocolate-birthday-cake-scaled.jpg\" vis/imgs/img3.jpg\n",
      "image 3: a piece of chocolate cake on a white plate\n",
      "cp \".\\images\\chocolate-birthday-cake-bw.jpg\" vis/imgs/img4.jpg\n",
      "image 1: a black and white photo of a piece of cake\n",
      "cp \".\\images\\chocolate-birthday-cake-flipped.jpg\" vis/imgs/img5.jpg\n",
      "image 2: a close up of a piece of cake on a table\n",
      "cp \".\\images\\chocolate-birthday-cake-scaled.jpg\" vis/imgs/img6.jpg\n",
      "image 3: a piece of chocolate cake on a white plate\n",
      "cp \".\\images\\chocolate-birthday-cake-bw.jpg\" vis/imgs/img7.jpg\n",
      "image 1: a black and white photo of a piece of cake\n",
      "cp \".\\images\\chocolate-birthday-cake-flipped.jpg\" vis/imgs/img8.jpg\n",
      "image 2: a close up of a piece of cake on a table\n",
      "cp \".\\images\\chocolate-birthday-cake-scaled.jpg\" vis/imgs/img9.jpg\n",
      "image 3: a piece of chocolate cake on a white plate\n",
      "cp \".\\images\\chocolate-birthday-cake-bw.jpg\" vis/imgs/img10.jpg\n",
      "image 1: a black and white photo of a piece of cake\n",
      "evaluating validation preformance... 0/3 (0.000000)\n",
      "loss:  0.0\n"
     ]
    },
    {
     "name": "stderr",
     "output_type": "stream",
     "text": [
      "c:\\Users\\Gabriel\\PycharmProjects\\AIML\\DL-Assignment01\\ImageCaptioning\\eval.py:111: FutureWarning: You are using `torch.load` with `weights_only=False` (the current default value), which uses the default pickle module implicitly. It is possible to construct malicious pickle data which will execute arbitrary code during unpickling (See https://github.com/pytorch/pytorch/blob/main/SECURITY.md#untrusted-models for more details). In a future release, the default value for `weights_only` will be flipped to `True`. This limits the functions that could be executed during unpickling. Arbitrary objects will no longer be allowed to be loaded via this mode unless they are explicitly allowlisted by the user via `torch.serialization.add_safe_globals`. We recommend you start setting `weights_only=True` for any use case where you don't have full control of the loaded file. Please open an issue on GitHub for any issues related to this experimental feature.\n",
      "  model.load_state_dict(torch.load(opt.model, map_location=torch.device(device)))\n",
      "c:\\Users\\Gabriel\\PycharmProjects\\AIML\\DL-Assignment01\\ImageCaptioning\\dataloaderraw.py:37: FutureWarning: You are using `torch.load` with `weights_only=False` (the current default value), which uses the default pickle module implicitly. It is possible to construct malicious pickle data which will execute arbitrary code during unpickling (See https://github.com/pytorch/pytorch/blob/main/SECURITY.md#untrusted-models for more details). In a future release, the default value for `weights_only` will be flipped to `True`. This limits the functions that could be executed during unpickling. Arbitrary objects will no longer be allowed to be loaded via this mode unless they are explicitly allowlisted by the user via `torch.serialization.add_safe_globals`. We recommend you start setting `weights_only=True` for any use case where you don't have full control of the loaded file. Please open an issue on GitHub for any issues related to this experimental feature.\n",
      "  self.my_resnet.load_state_dict(torch.load('./data/imagenet_weights/'+self.cnn_model+'.pth'))\n",
      "c:\\Users\\Gabriel\\PycharmProjects\\AIML\\DL-Assignment01\\ImageCaptioning\\models\\FCModel.py:147: UserWarning: Implicit dimension choice for log_softmax has been deprecated. Change the call to include dim=X as an argument.\n",
      "  logprobs = F.log_softmax(self.logit(output))\n",
      "c:\\Users\\Gabriel\\PycharmProjects\\AIML\\DL-Assignment01\\ImageCaptioning\\models\\FCModel.py:123: UserWarning: Implicit dimension choice for log_softmax has been deprecated. Change the call to include dim=X as an argument.\n",
      "  logprobs = F.log_softmax(self.logit(output))\n",
      "'cp' is not recognized as an internal or external command,\n",
      "operable program or batch file.\n",
      "'cp' is not recognized as an internal or external command,\n",
      "operable program or batch file.\n",
      "'cp' is not recognized as an internal or external command,\n",
      "operable program or batch file.\n",
      "'cp' is not recognized as an internal or external command,\n",
      "operable program or batch file.\n",
      "'cp' is not recognized as an internal or external command,\n",
      "operable program or batch file.\n",
      "'cp' is not recognized as an internal or external command,\n",
      "operable program or batch file.\n",
      "'cp' is not recognized as an internal or external command,\n",
      "operable program or batch file.\n",
      "'cp' is not recognized as an internal or external command,\n",
      "operable program or batch file.\n",
      "'cp' is not recognized as an internal or external command,\n",
      "operable program or batch file.\n",
      "'cp' is not recognized as an internal or external command,\n",
      "operable program or batch file.\n"
     ]
    }
   ],
   "source": [
    "!python eval.py --model .\\data\\fc\\fc-model.pth --infos_path .\\data\\fc\\fc-infos.pkl --image_folder .\\images --num_images 3"
   ]
  },
  {
   "cell_type": "code",
   "execution_count": 10,
   "id": "097fd8bd",
   "metadata": {},
   "outputs": [
    {
     "name": "stdout",
     "output_type": "stream",
     "text": [
      "^C\n"
     ]
    }
   ],
   "source": [
    "!cd vis\n",
    "!python -m http.server 9000"
   ]
  },
  {
   "cell_type": "markdown",
   "id": "ffdf9daa",
   "metadata": {},
   "source": [
    "# Caption Outputs\n",
    "- <img src=\"caption2.png\" alt=\"Chocolate Cake\"/>"
   ]
  },
  {
   "cell_type": "markdown",
   "id": "cc3a5e56",
   "metadata": {},
   "source": [
    "# Step 4: Analyze Bias\n",
    "\n",
    "For this one I want to use 7 images that have been generated by AI. I want to see if the AI can accurately caption these images\n",
    "\n",
    "<img src=\"images/cat-ceo.jpg\" alt=\"Chocolate Cake\" width=200px/>\n",
    "<img src=\"images/cowboy-on-zebra.png\" alt=\"Chocolate Cake\" width=200px/>\n",
    "<img src=\"images/dog-in-costume.png\" alt=\"Chocolate Cake\" width=200px/>\n",
    "<img src=\"images/dog-in-grass.png\" alt=\"Chocolate Cake\" width=200px/>\n",
    "<img src=\"images/hands-touching-a-god.jpg\" alt=\"Chocolate Cake\" width=200px/>\n",
    "<img src=\"images/sloth.jpg\" alt=\"Chocolate Cake\" width=200px/>\n",
    "<img src=\"images/squirrel.jpg\" alt=\"Chocolate Cake\" width=200px/>"
   ]
  },
  {
   "cell_type": "code",
   "execution_count": 11,
   "id": "76a42e67",
   "metadata": {},
   "outputs": [
    {
     "name": "stdout",
     "output_type": "stream",
     "text": [
      "DataLoaderRaw loading images from folder:  .\\images\n",
      "0\n",
      "listing all images in directory .\\images\n",
      "DataLoaderRaw found  10  images\n",
      "cp \".\\images\\cat-ceo.jpg\" vis/imgs/img1.jpg\n",
      "image 1: a man in a suit and tie sitting on a bench\n",
      "cp \".\\images\\chocolate-birthday-cake-bw.jpg\" vis/imgs/img2.jpg\n",
      "image 2: a black and white photo of a piece of cake\n",
      "cp \".\\images\\chocolate-birthday-cake-flipped.jpg\" vis/imgs/img3.jpg\n",
      "image 3: a close up of a piece of cake on a table\n",
      "cp \".\\images\\chocolate-birthday-cake-scaled.jpg\" vis/imgs/img4.jpg\n",
      "image 4: a piece of chocolate cake on a white plate\n",
      "cp \".\\images\\cowboy-on-zebra.png\" vis/imgs/img5.jpg\n",
      "image 5: a statue of a man with a striped tie\n",
      "cp \".\\images\\dog-in-costume.png\" vis/imgs/img6.jpg\n",
      "image 6: a small dog wearing a green hat and a hat\n",
      "cp \".\\images\\dog-in-grass.png\" vis/imgs/img7.jpg\n",
      "image 7: a small dog with a frisbee in its mouth\n",
      "cp \".\\images\\hands-touching-a-god.jpg\" vis/imgs/img8.jpg\n",
      "image 8: a painting of a man with a knife and a knife\n",
      "cp \".\\images\\sloth.jpg\" vis/imgs/img9.jpg\n",
      "image 9: a little boy is holding a teddy bear\n",
      "cp \".\\images\\squirrel.jpg\" vis/imgs/img10.jpg\n",
      "image 10: a statue of a monkey with a banana on it\n",
      "evaluating validation preformance... -1/10 (0.000000)\n",
      "loss:  0.0\n"
     ]
    },
    {
     "name": "stderr",
     "output_type": "stream",
     "text": [
      "c:\\Users\\Gabriel\\PycharmProjects\\AIML\\DL-Assignment01\\ImageCaptioning\\eval.py:111: FutureWarning: You are using `torch.load` with `weights_only=False` (the current default value), which uses the default pickle module implicitly. It is possible to construct malicious pickle data which will execute arbitrary code during unpickling (See https://github.com/pytorch/pytorch/blob/main/SECURITY.md#untrusted-models for more details). In a future release, the default value for `weights_only` will be flipped to `True`. This limits the functions that could be executed during unpickling. Arbitrary objects will no longer be allowed to be loaded via this mode unless they are explicitly allowlisted by the user via `torch.serialization.add_safe_globals`. We recommend you start setting `weights_only=True` for any use case where you don't have full control of the loaded file. Please open an issue on GitHub for any issues related to this experimental feature.\n",
      "  model.load_state_dict(torch.load(opt.model, map_location=torch.device(device)))\n",
      "c:\\Users\\Gabriel\\PycharmProjects\\AIML\\DL-Assignment01\\ImageCaptioning\\dataloaderraw.py:37: FutureWarning: You are using `torch.load` with `weights_only=False` (the current default value), which uses the default pickle module implicitly. It is possible to construct malicious pickle data which will execute arbitrary code during unpickling (See https://github.com/pytorch/pytorch/blob/main/SECURITY.md#untrusted-models for more details). In a future release, the default value for `weights_only` will be flipped to `True`. This limits the functions that could be executed during unpickling. Arbitrary objects will no longer be allowed to be loaded via this mode unless they are explicitly allowlisted by the user via `torch.serialization.add_safe_globals`. We recommend you start setting `weights_only=True` for any use case where you don't have full control of the loaded file. Please open an issue on GitHub for any issues related to this experimental feature.\n",
      "  self.my_resnet.load_state_dict(torch.load('./data/imagenet_weights/'+self.cnn_model+'.pth'))\n",
      "c:\\Users\\Gabriel\\PycharmProjects\\AIML\\DL-Assignment01\\ImageCaptioning\\models\\FCModel.py:147: UserWarning: Implicit dimension choice for log_softmax has been deprecated. Change the call to include dim=X as an argument.\n",
      "  logprobs = F.log_softmax(self.logit(output))\n",
      "c:\\Users\\Gabriel\\PycharmProjects\\AIML\\DL-Assignment01\\ImageCaptioning\\models\\FCModel.py:123: UserWarning: Implicit dimension choice for log_softmax has been deprecated. Change the call to include dim=X as an argument.\n",
      "  logprobs = F.log_softmax(self.logit(output))\n",
      "'cp' is not recognized as an internal or external command,\n",
      "operable program or batch file.\n",
      "'cp' is not recognized as an internal or external command,\n",
      "operable program or batch file.\n",
      "'cp' is not recognized as an internal or external command,\n",
      "operable program or batch file.\n",
      "'cp' is not recognized as an internal or external command,\n",
      "operable program or batch file.\n",
      "'cp' is not recognized as an internal or external command,\n",
      "operable program or batch file.\n",
      "'cp' is not recognized as an internal or external command,\n",
      "operable program or batch file.\n",
      "'cp' is not recognized as an internal or external command,\n",
      "operable program or batch file.\n",
      "'cp' is not recognized as an internal or external command,\n",
      "operable program or batch file.\n",
      "'cp' is not recognized as an internal or external command,\n",
      "operable program or batch file.\n",
      "'cp' is not recognized as an internal or external command,\n",
      "operable program or batch file.\n"
     ]
    }
   ],
   "source": [
    "!python eval.py --model .\\data\\fc\\fc-model.pth --infos_path .\\data\\fc\\fc-infos.pkl --image_folder .\\images --num_images 10"
   ]
  },
  {
   "cell_type": "code",
   "execution_count": 12,
   "id": "873d2922",
   "metadata": {},
   "outputs": [
    {
     "name": "stdout",
     "output_type": "stream",
     "text": [
      "^C\n"
     ]
    }
   ],
   "source": [
    "!cd vis\n",
    "!python -m http.server 9000"
   ]
  },
  {
   "cell_type": "markdown",
   "id": "a4ec2bc5",
   "metadata": {},
   "source": [
    "# Caption Outputs\n",
    "-<img src=\"caption3.png\" alt=\"Chocolate Cake\"/>\n",
    "-<img src=\"caption4.png\" alt=\"Chocolate Cake\"/>\n",
    "-<img src=\"caption5.png\" alt=\"Chocolate Cake\"/>"
   ]
  },
  {
   "cell_type": "markdown",
   "id": "e655b6b0",
   "metadata": {},
   "source": [
    "# Results\n",
    "\n",
    "It looks like the AI was onot able to properly caption images that were generated by AI. This is most likely becuase the AI may have not been able to find the proper subjects, and if it did, the AI may not have been able to percieve it as real. A lot of AI art is not real of course, so I wonder if the AI can only detect real versus 'fake'. Fake being real-life subejects. The only one it was close on was the dog catching the ball, but instead of the a ball it said it was a frisbee."
   ]
  }
 ],
 "metadata": {
  "kernelspec": {
   "display_name": "ML",
   "language": "python",
   "name": "python3"
  },
  "language_info": {
   "codemirror_mode": {
    "name": "ipython",
    "version": 3
   },
   "file_extension": ".py",
   "mimetype": "text/x-python",
   "name": "python",
   "nbconvert_exporter": "python",
   "pygments_lexer": "ipython3",
   "version": "3.10.14"
  }
 },
 "nbformat": 4,
 "nbformat_minor": 5
}
