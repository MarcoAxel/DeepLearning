{
 "cells": [
  {
   "cell_type": "markdown",
   "id": "716aa70b",
   "metadata": {},
   "source": [
    "### Remember to only run it once!!"
   ]
  },
  {
   "cell_type": "markdown",
   "id": "a33b0d2d",
   "metadata": {},
   "source": [
    "dataset can be found here:\n",
    "\n",
    "https://rndml-team-cv.obs.ru-moscow-1.hc.sbercloud.ru/datasets/hagrid/hagrid_dataset_new_554800/hagrid_dataset_512.zip"
   ]
  },
  {
   "cell_type": "code",
   "execution_count": null,
   "id": "14a482d5",
   "metadata": {},
   "outputs": [
    {
     "name": "stdout",
     "output_type": "stream",
     "text": [
      "\n",
      "📂 Processing class: rock\n",
      "✅ Copied 7000 to train/rock\n",
      "✅ Copied 1500 to val/rock\n",
      "✅ Copied 1500 to test/rock\n",
      "\n",
      "📂 Processing class: palm\n",
      "✅ Copied 7000 to train/palm\n",
      "✅ Copied 1500 to val/palm\n",
      "✅ Copied 1500 to test/palm\n",
      "\n",
      "📂 Processing class: like\n",
      "✅ Copied 7000 to train/like\n",
      "✅ Copied 1500 to val/like\n",
      "✅ Copied 1500 to test/like\n",
      "\n",
      "📂 Processing class: dislike\n",
      "✅ Copied 7000 to train/dislike\n",
      "✅ Copied 1500 to val/dislike\n",
      "✅ Copied 1500 to test/dislike\n",
      "\n",
      "📂 Processing class: ok\n",
      "✅ Copied 7000 to train/ok\n",
      "✅ Copied 1500 to val/ok\n",
      "✅ Copied 1500 to test/ok\n",
      "\n",
      "📂 Processing class: fist\n",
      "✅ Copied 7000 to train/fist\n",
      "✅ Copied 1500 to val/fist\n",
      "✅ Copied 1500 to test/fist\n",
      "\n",
      "🎉 Done! Images split into data/train/, data/val/, and data/test/\n"
     ]
    }
   ],
   "source": [
    "#import os # commented to prevent accidental re-run\n",
    "import shutil\n",
    "import random\n",
    "\n",
    "# ✅ Adjusted to your folder structure\n",
    "SOURCE_DIR = \"../data/raw_hagrid_dataset_512\"\n",
    "DEST_BASE = \"../data\"\n",
    "CLASSES = ['rock', 'palm', 'like', 'dislike', 'ok', 'fist']\n",
    "\n",
    "# Set counts for each split\n",
    "SPLIT_COUNTS = {\n",
    "    'train': 7000,\n",
    "    'val': 1500,\n",
    "    'test': 1500\n",
    "}\n",
    "\n",
    "# Make destination folders\n",
    "for split in SPLIT_COUNTS:\n",
    "    for cls in CLASSES:\n",
    "        dest_path = os.path.join(DEST_BASE, split, cls)\n",
    "        os.makedirs(dest_path, exist_ok=True)\n",
    "\n",
    "# Begin copying files\n",
    "for cls in CLASSES:\n",
    "    print(f\"\\n📂 Processing class: {cls}\")\n",
    "    src_folder = os.path.join(SOURCE_DIR, cls)\n",
    "    \n",
    "    if not os.path.exists(src_folder):\n",
    "        raise FileNotFoundError(f\"❌ Source folder not found: {src_folder}\")\n",
    "\n",
    "    all_images = [f for f in os.listdir(src_folder) if f.lower().endswith(('.jpg', '.png'))]\n",
    "    total_needed = sum(SPLIT_COUNTS.values())\n",
    "\n",
    "    if len(all_images) < total_needed:\n",
    "        raise ValueError(f\"❌ Not enough images in '{cls}' (found {len(all_images)}, need {total_needed})\")\n",
    "    \n",
    "    random.shuffle(all_images)\n",
    "    start = 0\n",
    "\n",
    "    for split, count in SPLIT_COUNTS.items():\n",
    "        dest_folder = os.path.join(DEST_BASE, split, cls)\n",
    "        split_images = all_images[start:start + count]\n",
    "        for img in split_images:\n",
    "            shutil.copy2(os.path.join(src_folder, img), os.path.join(dest_folder, img))\n",
    "        print(f\"✅ Copied {count} to {split}/{cls}\")\n",
    "        start += count\n",
    "\n",
    "print(\"\\n🎉 Done! Images split into data/train/, data/val/, and data/test/\")"
   ]
  },
  {
   "cell_type": "code",
   "execution_count": null,
   "id": "3cb6df54",
   "metadata": {},
   "outputs": [],
   "source": []
  }
 ],
 "metadata": {
  "kernelspec": {
   "display_name": "csc360deeplearning",
   "language": "python",
   "name": "python3"
  },
  "language_info": {
   "codemirror_mode": {
    "name": "ipython",
    "version": 3
   },
   "file_extension": ".py",
   "mimetype": "text/x-python",
   "name": "python",
   "nbconvert_exporter": "python",
   "pygments_lexer": "ipython3",
   "version": "3.11.5"
  }
 },
 "nbformat": 4,
 "nbformat_minor": 5
}
