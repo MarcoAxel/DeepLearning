{
 "cells": [
  {
   "cell_type": "markdown",
   "metadata": {},
   "source": [
    "## Installing PyTorch with MPS Support\n",
    "Ensure PyTorch is installed with MPS support. Run the folloeing command:"
   ]
  },
  {
   "cell_type": "code",
   "execution_count": null,
   "metadata": {},
   "outputs": [],
   "source": [
    "%pip install jupyter torch torchvision torchaudio"
   ]
  },
  {
   "cell_type": "markdown",
   "metadata": {},
   "source": [
    "## Check for MPS\n",
    "\n",
    "(Metal Performance Shaders) availability on  mac"
   ]
  },
  {
   "cell_type": "code",
   "execution_count": 6,
   "metadata": {},
   "outputs": [
    {
     "name": "stdout",
     "output_type": "stream",
     "text": [
      "MPS is available! your Mac supports GPU acceleration!\n"
     ]
    }
   ],
   "source": [
    "import torch\n",
    "\n",
    "if torch.backends.mps.is_available():\n",
    "    print(\"MPS is available! your Mac supports GPU acceleration!\")\n",
    "else: \n",
    "    print(\"MPS is not available :(\")"
   ]
  },
  {
   "cell_type": "markdown",
   "metadata": {},
   "source": [
    "## Set up a Tensor on MPS\n",
    "\n",
    "To use MPS, move tensor and models to the mps device:"
   ]
  },
  {
   "cell_type": "code",
   "execution_count": 5,
   "metadata": {},
   "outputs": [
    {
     "name": "stdout",
     "output_type": "stream",
     "text": [
      "tensor([[-0.1572,  0.0141,  1.2751],\n",
      "        [ 0.4835, -0.7933, -0.9512],\n",
      "        [-0.0085,  1.0018,  0.5807]], device='mps:0')\n"
     ]
    }
   ],
   "source": [
    "device = torch.device(\"mps\") #Set device to MPS\n",
    "x = torch.randn(3, 3).to(device) #Move tensor to MPS\n",
    "print(x)"
   ]
  },
  {
   "cell_type": "markdown",
   "metadata": {},
   "source": [
    "## Define a Simple Model\n",
    "\n",
    "Basic neural network and moving it to MPS"
   ]
  },
  {
   "cell_type": "code",
   "execution_count": 7,
   "metadata": {},
   "outputs": [],
   "source": [
    "import torch.nn as nn\n",
    "import torch.optim as optim\n",
    "\n",
    "#Define a simple neural network\n",
    "class SimpleNN(nn.Module):\n",
    "    def __init__(self):\n",
    "        super(SimpleNN, self).__init__()\n",
    "        self.fc = nn.Linear(3, 1) #Linear layer\n",
    "    \n",
    "    def forward(self, x):\n",
    "        return self.fc(x)\n",
    "    \n",
    "# Initialize model and moce it to MPS\n",
    "model = SimpleNN().to(device)\n",
    "\n",
    "#Define loss and optimizer\n",
    "criterion = nn.MSELoss()\n",
    "optimizer = optim.SGD(model.parameters(), lr=0.01)\n"
   ]
  },
  {
   "cell_type": "markdown",
   "metadata": {},
   "source": [
    "## Train the Model on MPS\n",
    "\n",
    "Now we can train the model on MPS:"
   ]
  },
  {
   "cell_type": "code",
   "execution_count": 8,
   "metadata": {},
   "outputs": [
    {
     "name": "stdout",
     "output_type": "stream",
     "text": [
      "Epoch [1/5], Loss: 0.9883\n",
      "Epoch [2/5], Loss: 0.9666\n",
      "Epoch [3/5], Loss: 0.9457\n",
      "Epoch [4/5], Loss: 0.9256\n",
      "Epoch [5/5], Loss: 0.9061\n"
     ]
    }
   ],
   "source": [
    "#Generate random input and target data\n",
    "inputs = torch.randn(10, 3).to(device) #Move to MPS\n",
    "targets = torch.randn(10, 1).to(device) #Move to MPS\n",
    "\n",
    "#Trainig loop\n",
    "for epoch in range(5): #Train for 5 epochs\n",
    "    optimizer.zero_grad() #Reset gradients\n",
    "    outputs = model(inputs) #Forward pass\n",
    "    loss = criterion(outputs, targets) ##Compute loss\n",
    "    loss.backward() #Backpropagation\n",
    "    optimizer.step() #Update weights\n",
    "\n",
    "    print(f\"Epoch [{epoch+1}/5], Loss: {loss.item():.4f}\")\n"
   ]
  },
  {
   "cell_type": "markdown",
   "metadata": {},
   "source": [
    "# An epoch in machine learning refers to one complete pass through the entire dataset during training.\n",
    "\n",
    "Breaking it Down:\n",
    "\n",
    "1.\tThe model processes all training data once.\n",
    "2.\tIt computes the loss (error) for each example.\n",
    "3.\tIt updates the weights using backpropagation and optimization.\n",
    "4.\tThe process repeats for multiple epochs to improve accuracy.\n",
    "\n",
    "Example:\n",
    "\n",
    "If you have 1000 training samples and a batch size of 100, then:\n",
    "•\t1 epoch = processing all 1000 samples once.\n",
    "•\tIf training for 5 epochs, the model will go through the entire dataset 5 times.\n",
    "\n",
    "----------------------------------------------------------------------------------------------------\n",
    "\n",
    "Why Use Multiple Epochs?\n",
    "\n",
    "•\tToo few epochs: The model does not learn enough.\n",
    "•\tToo many epochs: The model might overfit (memorize the data instead of generalizing)."
   ]
  },
  {
   "cell_type": "markdown",
   "metadata": {},
   "source": [
    "## Important Notes\n",
    "\n",
    "•\tUse torch.device(\"mps\") instead of \"cuda\" since Mac uses MPS instead of CUDA.\n",
    "\n",
    "•\tMPS may not support some operations (e.g., some convolutions). You may need to use .to(\"cpu\") for unsupported ops.\n",
    "\n",
    "•\tIf you face performance issues, try updating PyTorch and macOS."
   ]
  }
 ],
 "metadata": {
  "kernelspec": {
   "display_name": "csc360deeplearning",
   "language": "python",
   "name": "python3"
  },
  "language_info": {
   "codemirror_mode": {
    "name": "ipython",
    "version": 3
   },
   "file_extension": ".py",
   "mimetype": "text/x-python",
   "name": "python",
   "nbconvert_exporter": "python",
   "pygments_lexer": "ipython3",
   "version": "3.11.5"
  }
 },
 "nbformat": 4,
 "nbformat_minor": 2
}
